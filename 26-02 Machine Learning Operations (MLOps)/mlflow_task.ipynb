{
 "cells": [
  {
   "cell_type": "code",
   "execution_count": 1,
   "metadata": {},
   "outputs": [],
   "source": [
    "import os\n",
    "import kagglehub\n",
    "import pandas as pd\n",
    "\n",
    "import mlflow\n",
    "import mlflow.sklearn\n",
    "from sklearn.model_selection import train_test_split\n",
    "from sklearn.ensemble import RandomForestClassifier\n",
    "from sklearn.linear_model import LogisticRegression\n",
    "from sklearn.metrics import accuracy_score, precision_score, recall_score, f1_score\n",
    "import pandas as pd\n",
    "import matplotlib.pyplot as plt\n",
    "import subprocess\n",
    "import time\n",
    "import IPython.display as display\n",
    "import tempfile\n",
    "from sklearn.ensemble import AdaBoostClassifier\n",
    "import mlflow\n",
    "import mlflow.sklearn\n",
    "import pandas as pd\n",
    "import numpy as np\n",
    "import matplotlib.pyplot as plt\n",
    "from sklearn.model_selection import TimeSeriesSplit\n",
    "from sklearn.metrics import mean_absolute_error, mean_squared_error\n",
    "from sklearn.ensemble import RandomForestRegressor\n",
    "from sklearn.linear_model import LinearRegression\n",
    "from xgboost import XGBRegressor\n",
    "from sklearn.model_selection import TimeSeriesSplit"
   ]
  },
  {
   "cell_type": "markdown",
   "metadata": {},
   "source": [
    "## Execise 1\n",
    "\n",
    "In this exercise, do the following:\n",
    "1. Load the dataset used in the time series example - Energy consumption data. You can find it in the notebook \"TSA_Example\" in Time Series folder in Moodle.\n",
    "2. Setup a nested MLFlow loop where different modelling experiments can be tracked and the use the dataset in point 1 to experiment and track models. You should do following combinations:\n",
    "    1. At least 3 model types\n",
    "    2. At least 3 different feature combinations\n",
    "    3. At least 3 different options for 3 different hyperparameters\n",
    "    4. At least 3 different time splits for train test\n",
    "3. For each option in the combination, you should calculate & log the following in MLFlow:\n",
    "    1. RMSE\n",
    "    2. MAE\n",
    "    3. Plot of actual vs predicted for 1 month data\n",
    "    4. Plot of actual vs predicted for 1 week of data\n",
    "    5. All of the combination info in point 2, such as which model, what feature combindation, what hyperparameter, what train test split has been used\n",
    "4. Turn on MLFlow UI and track your experiments"
   ]
  },
  {
   "cell_type": "markdown",
   "metadata": {},
   "source": [
    "1. Load the dataset used in the time series example - Energy consumption data. You can find it in the notebook \"TSA_Example\" in Time Series folder in Moodle."
   ]
  },
  {
   "cell_type": "code",
   "execution_count": 2,
   "metadata": {},
   "outputs": [
    {
     "name": "stdout",
     "output_type": "stream",
     "text": [
      "Warning: Looks like you're using an outdated `kagglehub` version (installed: 0.3.7), please consider upgrading to the latest version (0.3.10).\n",
      "Path to dataset files: C:\\Users\\Jacob\\.cache\\kagglehub\\datasets\\robikscube\\hourly-energy-consumption\\versions\\3\n"
     ]
    }
   ],
   "source": [
    "# Download latest version\n",
    "path = kagglehub.dataset_download(\"robikscube/hourly-energy-consumption\")\n",
    "\n",
    "print(\"Path to dataset files:\", path)"
   ]
  },
  {
   "cell_type": "code",
   "execution_count": 3,
   "metadata": {},
   "outputs": [
    {
     "name": "stdout",
     "output_type": "stream",
     "text": [
      "['AEP_hourly.csv', 'COMED_hourly.csv', 'DAYTON_hourly.csv', 'DEOK_hourly.csv', 'DOM_hourly.csv', 'DUQ_hourly.csv', 'EKPC_hourly.csv', 'est_hourly.paruqet', 'FE_hourly.csv', 'NI_hourly.csv', 'PJME_hourly.csv', 'PJMW_hourly.csv', 'pjm_hourly_est.csv', 'PJM_Load_hourly.csv']\n"
     ]
    }
   ],
   "source": [
    "dataset_path = \"C:/Users/Jacob/.cache/kagglehub/datasets/robikscube/hourly-energy-consumption/versions/3\"\n",
    "\n",
    "files = os.listdir(dataset_path)\n",
    "print(files)\n"
   ]
  },
  {
   "cell_type": "code",
   "execution_count": 4,
   "metadata": {},
   "outputs": [],
   "source": [
    "file_path = \"C:/Users/Jacob/.cache/kagglehub/datasets/robikscube/hourly-energy-consumption/versions/3/PJME_hourly.csv\""
   ]
  },
  {
   "cell_type": "code",
   "execution_count": 5,
   "metadata": {},
   "outputs": [],
   "source": [
    "df = pd.read_csv(file_path)"
   ]
  },
  {
   "cell_type": "code",
   "execution_count": 6,
   "metadata": {},
   "outputs": [
    {
     "data": {
      "text/html": [
       "<div>\n",
       "<style scoped>\n",
       "    .dataframe tbody tr th:only-of-type {\n",
       "        vertical-align: middle;\n",
       "    }\n",
       "\n",
       "    .dataframe tbody tr th {\n",
       "        vertical-align: top;\n",
       "    }\n",
       "\n",
       "    .dataframe thead th {\n",
       "        text-align: right;\n",
       "    }\n",
       "</style>\n",
       "<table border=\"1\" class=\"dataframe\">\n",
       "  <thead>\n",
       "    <tr style=\"text-align: right;\">\n",
       "      <th></th>\n",
       "      <th>Datetime</th>\n",
       "      <th>PJME_MW</th>\n",
       "    </tr>\n",
       "  </thead>\n",
       "  <tbody>\n",
       "    <tr>\n",
       "      <th>0</th>\n",
       "      <td>2002-12-31 01:00:00</td>\n",
       "      <td>26498.0</td>\n",
       "    </tr>\n",
       "    <tr>\n",
       "      <th>1</th>\n",
       "      <td>2002-12-31 02:00:00</td>\n",
       "      <td>25147.0</td>\n",
       "    </tr>\n",
       "    <tr>\n",
       "      <th>2</th>\n",
       "      <td>2002-12-31 03:00:00</td>\n",
       "      <td>24574.0</td>\n",
       "    </tr>\n",
       "    <tr>\n",
       "      <th>3</th>\n",
       "      <td>2002-12-31 04:00:00</td>\n",
       "      <td>24393.0</td>\n",
       "    </tr>\n",
       "    <tr>\n",
       "      <th>4</th>\n",
       "      <td>2002-12-31 05:00:00</td>\n",
       "      <td>24860.0</td>\n",
       "    </tr>\n",
       "    <tr>\n",
       "      <th>...</th>\n",
       "      <td>...</td>\n",
       "      <td>...</td>\n",
       "    </tr>\n",
       "    <tr>\n",
       "      <th>145361</th>\n",
       "      <td>2018-01-01 20:00:00</td>\n",
       "      <td>44284.0</td>\n",
       "    </tr>\n",
       "    <tr>\n",
       "      <th>145362</th>\n",
       "      <td>2018-01-01 21:00:00</td>\n",
       "      <td>43751.0</td>\n",
       "    </tr>\n",
       "    <tr>\n",
       "      <th>145363</th>\n",
       "      <td>2018-01-01 22:00:00</td>\n",
       "      <td>42402.0</td>\n",
       "    </tr>\n",
       "    <tr>\n",
       "      <th>145364</th>\n",
       "      <td>2018-01-01 23:00:00</td>\n",
       "      <td>40164.0</td>\n",
       "    </tr>\n",
       "    <tr>\n",
       "      <th>145365</th>\n",
       "      <td>2018-01-02 00:00:00</td>\n",
       "      <td>38608.0</td>\n",
       "    </tr>\n",
       "  </tbody>\n",
       "</table>\n",
       "<p>145366 rows × 2 columns</p>\n",
       "</div>"
      ],
      "text/plain": [
       "                   Datetime  PJME_MW\n",
       "0       2002-12-31 01:00:00  26498.0\n",
       "1       2002-12-31 02:00:00  25147.0\n",
       "2       2002-12-31 03:00:00  24574.0\n",
       "3       2002-12-31 04:00:00  24393.0\n",
       "4       2002-12-31 05:00:00  24860.0\n",
       "...                     ...      ...\n",
       "145361  2018-01-01 20:00:00  44284.0\n",
       "145362  2018-01-01 21:00:00  43751.0\n",
       "145363  2018-01-01 22:00:00  42402.0\n",
       "145364  2018-01-01 23:00:00  40164.0\n",
       "145365  2018-01-02 00:00:00  38608.0\n",
       "\n",
       "[145366 rows x 2 columns]"
      ]
     },
     "execution_count": 6,
     "metadata": {},
     "output_type": "execute_result"
    }
   ],
   "source": [
    "df"
   ]
  },
  {
   "cell_type": "code",
   "execution_count": 7,
   "metadata": {},
   "outputs": [
    {
     "name": "stdout",
     "output_type": "stream",
     "text": [
      "<class 'pandas.core.frame.DataFrame'>\n",
      "RangeIndex: 145366 entries, 0 to 145365\n",
      "Data columns (total 2 columns):\n",
      " #   Column    Non-Null Count   Dtype  \n",
      "---  ------    --------------   -----  \n",
      " 0   Datetime  145366 non-null  object \n",
      " 1   PJME_MW   145366 non-null  float64\n",
      "dtypes: float64(1), object(1)\n",
      "memory usage: 2.2+ MB\n"
     ]
    }
   ],
   "source": [
    "df.info()"
   ]
  },
  {
   "cell_type": "code",
   "execution_count": 8,
   "metadata": {},
   "outputs": [
    {
     "name": "stdout",
     "output_type": "stream",
     "text": [
      "We got this number of duplicates in Datetime col: 4\n",
      "                   Datetime  PJME_MW\n",
      "106585  2014-11-02 02:00:00  23755.0\n",
      "115369  2015-11-01 02:00:00  21171.0\n",
      "124009  2016-11-06 02:00:00  21692.0\n",
      "132817  2017-11-05 02:00:00  20666.0\n"
     ]
    }
   ],
   "source": [
    "duplicate_values = df[df[\"Datetime\"].duplicated()]\n",
    "print(f\"We got this number of duplicates in Datetime col: {len(duplicate_values)}\")\n",
    "\n",
    "print(duplicate_values)\n"
   ]
  },
  {
   "cell_type": "code",
   "execution_count": 9,
   "metadata": {},
   "outputs": [],
   "source": [
    "df = df.drop_duplicates(subset=\"Datetime\")\n"
   ]
  },
  {
   "cell_type": "code",
   "execution_count": 10,
   "metadata": {},
   "outputs": [
    {
     "name": "stdout",
     "output_type": "stream",
     "text": [
      "<class 'pandas.core.frame.DataFrame'>\n",
      "Index: 145362 entries, 0 to 145365\n",
      "Data columns (total 2 columns):\n",
      " #   Column    Non-Null Count   Dtype  \n",
      "---  ------    --------------   -----  \n",
      " 0   Datetime  145362 non-null  object \n",
      " 1   PJME_MW   145362 non-null  float64\n",
      "dtypes: float64(1), object(1)\n",
      "memory usage: 3.3+ MB\n"
     ]
    }
   ],
   "source": [
    "df.info()"
   ]
  },
  {
   "cell_type": "code",
   "execution_count": 11,
   "metadata": {},
   "outputs": [],
   "source": [
    "df = df.set_index(\"Datetime\")\n",
    "df.index = pd.to_datetime(df.index)\n",
    "df = df.sort_index()"
   ]
  },
  {
   "cell_type": "code",
   "execution_count": 12,
   "metadata": {},
   "outputs": [
    {
     "data": {
      "text/html": [
       "<div>\n",
       "<style scoped>\n",
       "    .dataframe tbody tr th:only-of-type {\n",
       "        vertical-align: middle;\n",
       "    }\n",
       "\n",
       "    .dataframe tbody tr th {\n",
       "        vertical-align: top;\n",
       "    }\n",
       "\n",
       "    .dataframe thead th {\n",
       "        text-align: right;\n",
       "    }\n",
       "</style>\n",
       "<table border=\"1\" class=\"dataframe\">\n",
       "  <thead>\n",
       "    <tr style=\"text-align: right;\">\n",
       "      <th></th>\n",
       "      <th>PJME_MW</th>\n",
       "    </tr>\n",
       "    <tr>\n",
       "      <th>Datetime</th>\n",
       "      <th></th>\n",
       "    </tr>\n",
       "  </thead>\n",
       "  <tbody>\n",
       "    <tr>\n",
       "      <th>2002-01-01 01:00:00</th>\n",
       "      <td>30393.0</td>\n",
       "    </tr>\n",
       "    <tr>\n",
       "      <th>2002-01-01 02:00:00</th>\n",
       "      <td>29265.0</td>\n",
       "    </tr>\n",
       "    <tr>\n",
       "      <th>2002-01-01 03:00:00</th>\n",
       "      <td>28357.0</td>\n",
       "    </tr>\n",
       "    <tr>\n",
       "      <th>2002-01-01 04:00:00</th>\n",
       "      <td>27899.0</td>\n",
       "    </tr>\n",
       "    <tr>\n",
       "      <th>2002-01-01 05:00:00</th>\n",
       "      <td>28057.0</td>\n",
       "    </tr>\n",
       "  </tbody>\n",
       "</table>\n",
       "</div>"
      ],
      "text/plain": [
       "                     PJME_MW\n",
       "Datetime                    \n",
       "2002-01-01 01:00:00  30393.0\n",
       "2002-01-01 02:00:00  29265.0\n",
       "2002-01-01 03:00:00  28357.0\n",
       "2002-01-01 04:00:00  27899.0\n",
       "2002-01-01 05:00:00  28057.0"
      ]
     },
     "execution_count": 12,
     "metadata": {},
     "output_type": "execute_result"
    }
   ],
   "source": [
    "df.head()"
   ]
  },
  {
   "cell_type": "markdown",
   "metadata": {},
   "source": [
    "Checking for missing timestamps."
   ]
  },
  {
   "cell_type": "code",
   "execution_count": 13,
   "metadata": {},
   "outputs": [
    {
     "data": {
      "text/plain": [
       "DatetimeIndex(['2002-04-07 03:00:00', '2002-10-27 02:00:00',\n",
       "               '2003-04-06 03:00:00', '2003-10-26 02:00:00',\n",
       "               '2004-04-04 03:00:00', '2004-10-31 02:00:00',\n",
       "               '2005-04-03 03:00:00', '2005-10-30 02:00:00',\n",
       "               '2006-04-02 03:00:00', '2006-10-29 02:00:00',\n",
       "               '2007-03-11 03:00:00', '2007-11-04 02:00:00',\n",
       "               '2008-03-09 03:00:00', '2008-11-02 02:00:00',\n",
       "               '2009-03-08 03:00:00', '2009-11-01 02:00:00',\n",
       "               '2010-03-14 03:00:00', '2010-11-07 02:00:00',\n",
       "               '2010-12-10 00:00:00', '2011-03-13 03:00:00',\n",
       "               '2011-11-06 02:00:00', '2012-03-11 03:00:00',\n",
       "               '2012-11-04 02:00:00', '2013-03-10 03:00:00',\n",
       "               '2013-11-03 02:00:00', '2014-03-09 03:00:00',\n",
       "               '2015-03-08 03:00:00', '2016-03-13 03:00:00',\n",
       "               '2017-03-12 03:00:00', '2018-03-11 03:00:00'],\n",
       "              dtype='datetime64[ns]', freq=None)"
      ]
     },
     "execution_count": 13,
     "metadata": {},
     "output_type": "execute_result"
    }
   ],
   "source": [
    "range_of_dates = pd.date_range(start=df.index.min(), end=df.index.max(), freq=\"h\")\n",
    "missing_timestamps = range_of_dates.difference(df.index)\n",
    "missing_timestamps\n"
   ]
  },
  {
   "cell_type": "code",
   "execution_count": 14,
   "metadata": {},
   "outputs": [
    {
     "data": {
      "text/html": [
       "<div>\n",
       "<style scoped>\n",
       "    .dataframe tbody tr th:only-of-type {\n",
       "        vertical-align: middle;\n",
       "    }\n",
       "\n",
       "    .dataframe tbody tr th {\n",
       "        vertical-align: top;\n",
       "    }\n",
       "\n",
       "    .dataframe thead th {\n",
       "        text-align: right;\n",
       "    }\n",
       "</style>\n",
       "<table border=\"1\" class=\"dataframe\">\n",
       "  <thead>\n",
       "    <tr style=\"text-align: right;\">\n",
       "      <th></th>\n",
       "      <th>PJME_MW</th>\n",
       "    </tr>\n",
       "    <tr>\n",
       "      <th>Datetime</th>\n",
       "      <th></th>\n",
       "    </tr>\n",
       "  </thead>\n",
       "  <tbody>\n",
       "    <tr>\n",
       "      <th>2002-04-07 02:00:00</th>\n",
       "      <td>24738.0</td>\n",
       "    </tr>\n",
       "    <tr>\n",
       "      <th>2002-04-07 04:00:00</th>\n",
       "      <td>24487.0</td>\n",
       "    </tr>\n",
       "    <tr>\n",
       "      <th>2002-04-07 05:00:00</th>\n",
       "      <td>24617.0</td>\n",
       "    </tr>\n",
       "  </tbody>\n",
       "</table>\n",
       "</div>"
      ],
      "text/plain": [
       "                     PJME_MW\n",
       "Datetime                    \n",
       "2002-04-07 02:00:00  24738.0\n",
       "2002-04-07 04:00:00  24487.0\n",
       "2002-04-07 05:00:00  24617.0"
      ]
     },
     "execution_count": 14,
     "metadata": {},
     "output_type": "execute_result"
    }
   ],
   "source": [
    "df.loc[\"2002-04-07 02:00:00\":\"2002-04-07 05:00:00\"]"
   ]
  },
  {
   "cell_type": "markdown",
   "metadata": {},
   "source": [
    "Adding missing dates:"
   ]
  },
  {
   "cell_type": "code",
   "execution_count": 15,
   "metadata": {},
   "outputs": [],
   "source": [
    "df=df.reindex(range_of_dates)"
   ]
  },
  {
   "cell_type": "code",
   "execution_count": 16,
   "metadata": {},
   "outputs": [
    {
     "name": "stdout",
     "output_type": "stream",
     "text": [
      "<class 'pandas.core.frame.DataFrame'>\n",
      "DatetimeIndex: 145392 entries, 2002-01-01 01:00:00 to 2018-08-03 00:00:00\n",
      "Freq: h\n",
      "Data columns (total 1 columns):\n",
      " #   Column   Non-Null Count   Dtype  \n",
      "---  ------   --------------   -----  \n",
      " 0   PJME_MW  145362 non-null  float64\n",
      "dtypes: float64(1)\n",
      "memory usage: 6.2 MB\n"
     ]
    }
   ],
   "source": [
    "df.info()"
   ]
  },
  {
   "cell_type": "code",
   "execution_count": 17,
   "metadata": {},
   "outputs": [
    {
     "data": {
      "text/html": [
       "<div>\n",
       "<style scoped>\n",
       "    .dataframe tbody tr th:only-of-type {\n",
       "        vertical-align: middle;\n",
       "    }\n",
       "\n",
       "    .dataframe tbody tr th {\n",
       "        vertical-align: top;\n",
       "    }\n",
       "\n",
       "    .dataframe thead th {\n",
       "        text-align: right;\n",
       "    }\n",
       "</style>\n",
       "<table border=\"1\" class=\"dataframe\">\n",
       "  <thead>\n",
       "    <tr style=\"text-align: right;\">\n",
       "      <th></th>\n",
       "      <th>PJME_MW</th>\n",
       "    </tr>\n",
       "  </thead>\n",
       "  <tbody>\n",
       "    <tr>\n",
       "      <th>2002-04-07 02:00:00</th>\n",
       "      <td>24738.0</td>\n",
       "    </tr>\n",
       "    <tr>\n",
       "      <th>2002-04-07 03:00:00</th>\n",
       "      <td>NaN</td>\n",
       "    </tr>\n",
       "    <tr>\n",
       "      <th>2002-04-07 04:00:00</th>\n",
       "      <td>24487.0</td>\n",
       "    </tr>\n",
       "    <tr>\n",
       "      <th>2002-04-07 05:00:00</th>\n",
       "      <td>24617.0</td>\n",
       "    </tr>\n",
       "  </tbody>\n",
       "</table>\n",
       "</div>"
      ],
      "text/plain": [
       "                     PJME_MW\n",
       "2002-04-07 02:00:00  24738.0\n",
       "2002-04-07 03:00:00      NaN\n",
       "2002-04-07 04:00:00  24487.0\n",
       "2002-04-07 05:00:00  24617.0"
      ]
     },
     "execution_count": 17,
     "metadata": {},
     "output_type": "execute_result"
    }
   ],
   "source": [
    "df.loc[\"2002-04-07 02:00:00\":\"2002-04-07 05:00:00\"]"
   ]
  },
  {
   "cell_type": "markdown",
   "metadata": {},
   "source": [
    "Filling missing values that came due to the above"
   ]
  },
  {
   "cell_type": "code",
   "execution_count": 18,
   "metadata": {},
   "outputs": [
    {
     "name": "stderr",
     "output_type": "stream",
     "text": [
      "C:\\Users\\Jacob\\AppData\\Local\\Temp\\ipykernel_1216\\567689999.py:1: FutureWarning: DataFrame.fillna with 'method' is deprecated and will raise in a future version. Use obj.ffill() or obj.bfill() instead.\n",
      "  df = df.fillna(method=\"ffill\")\n"
     ]
    }
   ],
   "source": [
    "df = df.fillna(method=\"ffill\")"
   ]
  },
  {
   "cell_type": "code",
   "execution_count": 19,
   "metadata": {},
   "outputs": [
    {
     "data": {
      "text/html": [
       "<div>\n",
       "<style scoped>\n",
       "    .dataframe tbody tr th:only-of-type {\n",
       "        vertical-align: middle;\n",
       "    }\n",
       "\n",
       "    .dataframe tbody tr th {\n",
       "        vertical-align: top;\n",
       "    }\n",
       "\n",
       "    .dataframe thead th {\n",
       "        text-align: right;\n",
       "    }\n",
       "</style>\n",
       "<table border=\"1\" class=\"dataframe\">\n",
       "  <thead>\n",
       "    <tr style=\"text-align: right;\">\n",
       "      <th></th>\n",
       "      <th>PJME_MW</th>\n",
       "    </tr>\n",
       "  </thead>\n",
       "  <tbody>\n",
       "    <tr>\n",
       "      <th>2002-04-07 02:00:00</th>\n",
       "      <td>24738.0</td>\n",
       "    </tr>\n",
       "    <tr>\n",
       "      <th>2002-04-07 03:00:00</th>\n",
       "      <td>24738.0</td>\n",
       "    </tr>\n",
       "    <tr>\n",
       "      <th>2002-04-07 04:00:00</th>\n",
       "      <td>24487.0</td>\n",
       "    </tr>\n",
       "    <tr>\n",
       "      <th>2002-04-07 05:00:00</th>\n",
       "      <td>24617.0</td>\n",
       "    </tr>\n",
       "  </tbody>\n",
       "</table>\n",
       "</div>"
      ],
      "text/plain": [
       "                     PJME_MW\n",
       "2002-04-07 02:00:00  24738.0\n",
       "2002-04-07 03:00:00  24738.0\n",
       "2002-04-07 04:00:00  24487.0\n",
       "2002-04-07 05:00:00  24617.0"
      ]
     },
     "execution_count": 19,
     "metadata": {},
     "output_type": "execute_result"
    }
   ],
   "source": [
    "df.loc[\"2002-04-07 02:00:00\":\"2002-04-07 05:00:00\"]"
   ]
  },
  {
   "cell_type": "code",
   "execution_count": 20,
   "metadata": {},
   "outputs": [
    {
     "name": "stdout",
     "output_type": "stream",
     "text": [
      "<class 'pandas.core.frame.DataFrame'>\n",
      "DatetimeIndex: 145392 entries, 2002-01-01 01:00:00 to 2018-08-03 00:00:00\n",
      "Freq: h\n",
      "Data columns (total 1 columns):\n",
      " #   Column   Non-Null Count   Dtype  \n",
      "---  ------   --------------   -----  \n",
      " 0   PJME_MW  145392 non-null  float64\n",
      "dtypes: float64(1)\n",
      "memory usage: 6.2 MB\n"
     ]
    }
   ],
   "source": [
    "df.info()"
   ]
  },
  {
   "cell_type": "code",
   "execution_count": 21,
   "metadata": {},
   "outputs": [],
   "source": [
    "df[\"hour\"] = df.index.hour\n",
    "df[\"day\"] = df.index.day\n",
    "df[\"month\"] = df.index.month\n",
    "df[\"weekday\"] = df.index.weekday"
   ]
  },
  {
   "cell_type": "code",
   "execution_count": 22,
   "metadata": {},
   "outputs": [
    {
     "data": {
      "text/html": [
       "<div>\n",
       "<style scoped>\n",
       "    .dataframe tbody tr th:only-of-type {\n",
       "        vertical-align: middle;\n",
       "    }\n",
       "\n",
       "    .dataframe tbody tr th {\n",
       "        vertical-align: top;\n",
       "    }\n",
       "\n",
       "    .dataframe thead th {\n",
       "        text-align: right;\n",
       "    }\n",
       "</style>\n",
       "<table border=\"1\" class=\"dataframe\">\n",
       "  <thead>\n",
       "    <tr style=\"text-align: right;\">\n",
       "      <th></th>\n",
       "      <th>PJME_MW</th>\n",
       "      <th>hour</th>\n",
       "      <th>day</th>\n",
       "      <th>month</th>\n",
       "      <th>weekday</th>\n",
       "    </tr>\n",
       "  </thead>\n",
       "  <tbody>\n",
       "    <tr>\n",
       "      <th>2002-01-01 01:00:00</th>\n",
       "      <td>30393.0</td>\n",
       "      <td>1</td>\n",
       "      <td>1</td>\n",
       "      <td>1</td>\n",
       "      <td>1</td>\n",
       "    </tr>\n",
       "    <tr>\n",
       "      <th>2002-01-01 02:00:00</th>\n",
       "      <td>29265.0</td>\n",
       "      <td>2</td>\n",
       "      <td>1</td>\n",
       "      <td>1</td>\n",
       "      <td>1</td>\n",
       "    </tr>\n",
       "    <tr>\n",
       "      <th>2002-01-01 03:00:00</th>\n",
       "      <td>28357.0</td>\n",
       "      <td>3</td>\n",
       "      <td>1</td>\n",
       "      <td>1</td>\n",
       "      <td>1</td>\n",
       "    </tr>\n",
       "    <tr>\n",
       "      <th>2002-01-01 04:00:00</th>\n",
       "      <td>27899.0</td>\n",
       "      <td>4</td>\n",
       "      <td>1</td>\n",
       "      <td>1</td>\n",
       "      <td>1</td>\n",
       "    </tr>\n",
       "    <tr>\n",
       "      <th>2002-01-01 05:00:00</th>\n",
       "      <td>28057.0</td>\n",
       "      <td>5</td>\n",
       "      <td>1</td>\n",
       "      <td>1</td>\n",
       "      <td>1</td>\n",
       "    </tr>\n",
       "  </tbody>\n",
       "</table>\n",
       "</div>"
      ],
      "text/plain": [
       "                     PJME_MW  hour  day  month  weekday\n",
       "2002-01-01 01:00:00  30393.0     1    1      1        1\n",
       "2002-01-01 02:00:00  29265.0     2    1      1        1\n",
       "2002-01-01 03:00:00  28357.0     3    1      1        1\n",
       "2002-01-01 04:00:00  27899.0     4    1      1        1\n",
       "2002-01-01 05:00:00  28057.0     5    1      1        1"
      ]
     },
     "execution_count": 22,
     "metadata": {},
     "output_type": "execute_result"
    }
   ],
   "source": [
    "df.head()"
   ]
  },
  {
   "cell_type": "code",
   "execution_count": 23,
   "metadata": {},
   "outputs": [
    {
     "name": "stdout",
     "output_type": "stream",
     "text": [
      "<class 'pandas.core.frame.DataFrame'>\n",
      "DatetimeIndex: 145392 entries, 2002-01-01 01:00:00 to 2018-08-03 00:00:00\n",
      "Freq: h\n",
      "Data columns (total 5 columns):\n",
      " #   Column   Non-Null Count   Dtype  \n",
      "---  ------   --------------   -----  \n",
      " 0   PJME_MW  145392 non-null  float64\n",
      " 1   hour     145392 non-null  int32  \n",
      " 2   day      145392 non-null  int32  \n",
      " 3   month    145392 non-null  int32  \n",
      " 4   weekday  145392 non-null  int32  \n",
      "dtypes: float64(1), int32(4)\n",
      "memory usage: 8.5 MB\n"
     ]
    }
   ],
   "source": [
    "df.info()"
   ]
  },
  {
   "cell_type": "code",
   "execution_count": 24,
   "metadata": {},
   "outputs": [],
   "source": [
    "# def create_features(df):\n",
    "\n",
    "#     df = df.copy()\n",
    "#     # Lag features\n",
    "#     df['lag_1d'] = df['PJME_MW'].shift(1*24)   # 1 day lag\n",
    "#     df['lag_1w'] = df['PJME_MW'].shift(7*24)   # 1 week lag\n",
    "#     df['lag_1m'] = df['PJME_MW'].shift(30*24)  # 1 month lag\n",
    "\n",
    "#     # Rolling statistics features\n",
    "#     df['rolling_mean_1d'] = df['PJME_MW'].rolling(window=1*24).mean()  # Last 1 day rolling mean\n",
    "#     df['rolling_mean_7d'] = df['PJME_MW'].rolling(window=7*24).mean()  # Last 7 days rolling mean\n",
    "#     df['rolling_mean_30d'] = df['PJME_MW'].rolling(window=30*24).mean()  # Last 30 days rolling mean\n",
    "#     df['rolling_mean_90d'] = df['PJME_MW'].rolling(window=90*24).mean()  # Last 90 days rolling mean\n",
    "#     df['rolling_mean_same_month_last_year'] = df['PJME_MW'].shift(365*24).rolling(window=30*24).mean()  # Same month previous year rolling mean\n",
    "#     df['rolling_mean_same_week_last_year'] = df['PJME_MW'].shift(365*24).rolling(window=7*24).mean()  # Same week previous year rolling mean\n",
    "#     df['rolling_mean_same_day_last_year'] = df['PJME_MW'].shift(365*24).rolling(window=1*24).mean()  # Same day previous year rolling mean\n",
    "\n",
    "#     return df\n",
    "\n",
    "# df = create_features(df)"
   ]
  },
  {
   "cell_type": "code",
   "execution_count": 25,
   "metadata": {},
   "outputs": [],
   "source": [
    "# # Select the first combination\n",
    "# X = df.drop(columns=[\"PJME_MW\"])\n",
    "# y = df['PJME_MW']\n",
    "# X_train, X_test, y_train, y_test = train_test_split(X, y, test_size=0.3, random_state=42)\n",
    "\n",
    "# # Define different feature combinations\n",
    "# # Define 3 feature combinations based on your dataset\n",
    "# feature_combinations = [\n",
    "#     [\"hour\", \"day\", \"month\"],  # Combination 1: Time-based features (hour, day, month)\n",
    "#     [\"lag_1d\", \"lag_1w\", \"lag_1m\"],  # Combination 2: Lag features (1-day, 1-week, 1-month lags)\n",
    "#     [\"rolling_mean_1d\", \"rolling_mean_7d\", \"rolling_mean_30d\"],  # Combination 3: Rolling averages (short-term and long-term)\n",
    "# ]"
   ]
  },
  {
   "cell_type": "markdown",
   "metadata": {},
   "source": [
    "2. Setup a nested MLFlow loop where different modelling experiments can be tracked and the use the dataset in point 1 to experiment and track models. You should do following combinations:\n",
    "    1. At least 3 model types\n",
    "    2. At least 3 different feature combinations\n",
    "    3. At least 3 different options for 3 different hyperparameters\n",
    "    4. At least 3 different time splits for train test"
   ]
  },
  {
   "cell_type": "code",
   "execution_count": 26,
   "metadata": {},
   "outputs": [],
   "source": [
    "feature_combinations = [\n",
    "    [\"hour\", \"day\", \"month\", \"weekday\"],\n",
    "    [\"hour\", \"day\", \"month\"],\n",
    "    [\"hour\", \"day\", \"weekday\"],\n",
    "]"
   ]
  },
  {
   "cell_type": "code",
   "execution_count": 27,
   "metadata": {},
   "outputs": [
    {
     "name": "stdout",
     "output_type": "stream",
     "text": [
      "<class 'pandas.core.frame.DataFrame'>\n",
      "DatetimeIndex: 145392 entries, 2002-01-01 01:00:00 to 2018-08-03 00:00:00\n",
      "Freq: h\n",
      "Data columns (total 5 columns):\n",
      " #   Column   Non-Null Count   Dtype  \n",
      "---  ------   --------------   -----  \n",
      " 0   PJME_MW  145392 non-null  float64\n",
      " 1   hour     145392 non-null  int32  \n",
      " 2   day      145392 non-null  int32  \n",
      " 3   month    145392 non-null  int32  \n",
      " 4   weekday  145392 non-null  int32  \n",
      "dtypes: float64(1), int32(4)\n",
      "memory usage: 8.5 MB\n"
     ]
    }
   ],
   "source": [
    "df.info()"
   ]
  },
  {
   "cell_type": "code",
   "execution_count": 28,
   "metadata": {},
   "outputs": [],
   "source": [
    "models = {\n",
    "    \"LinearRegression\": LinearRegression,\n",
    "    \"RandomForest\": RandomForestRegressor,\n",
    "    \"XGBoost\": XGBRegressor\n",
    "}"
   ]
  },
  {
   "cell_type": "code",
   "execution_count": 29,
   "metadata": {},
   "outputs": [],
   "source": [
    "# hyperparameter_options = {\n",
    "#     \"n_estimators\": [50, 100, 150],\n",
    "#     \"max_depth\": [5, 10, 15],\n",
    "#     \"learning_rate\": [0.01, 0.1, 0.2]\n",
    "# }"
   ]
  },
  {
   "cell_type": "code",
   "execution_count": 30,
   "metadata": {},
   "outputs": [],
   "source": [
    "hyperparameter_options = {\n",
    "    \"n_estimators\": [50],\n",
    "    \"max_depth\": [5],\n",
    "    \"learning_rate\": [0.01]\n",
    "}"
   ]
  },
  {
   "cell_type": "markdown",
   "metadata": {},
   "source": [
    "# To do, date +1 hour off!!"
   ]
  },
  {
   "cell_type": "code",
   "execution_count": null,
   "metadata": {},
   "outputs": [],
   "source": [
    "# Training splits for our data, 60, 45 and 30 days\n",
    "split_points = [df.index[-(60*24)], df.index[-(45*24)], df.index[-(30*24)]] "
   ]
  },
  {
   "cell_type": "code",
   "execution_count": null,
   "metadata": {},
   "outputs": [
    {
     "name": "stdout",
     "output_type": "stream",
     "text": [
      "Experiment completed. Check MLflow UI for details.\n"
     ]
    }
   ],
   "source": [
    "# Start MLflow experiment\n",
    "mlflow.set_experiment(\"tester2\")\n",
    "\n",
    "for model_name, model in models.items():\n",
    "    with mlflow.start_run(run_name=model_name): \n",
    "        for features in feature_combinations:\n",
    "            feature_name = \"-\".join(features)\n",
    "            for n_estimators in hyperparameter_options[\"n_estimators\"]:\n",
    "                for max_depth in hyperparameter_options[\"max_depth\"]:\n",
    "                    for learning_rate in hyperparameter_options[\"learning_rate\"]:\n",
    "                        for split_point in split_points:\n",
    "                            child_run_name = f\"{feature_name}| n_est={n_estimators}| depth={max_depth}| lr={learning_rate}| time_split_point={split_point}\"\n",
    "                            with mlflow.start_run(run_name=child_run_name, nested=True):\n",
    "\n",
    "                                X = df[features]\n",
    "                                y = df[\"PJME_MW\"]\n",
    "\n",
    "                                # For X_train, slice until (excluding split_point)\n",
    "                                X_train, X_test = X[:split_point], X[split_point:]\n",
    "                                y_train, y_test = y[:split_point], y[split_point:]\n",
    "\n",
    "                                # Model training and hyperparameter tuning using validation set\n",
    "                                if model_name == \"LinearRegression\":\n",
    "                                    model = LinearRegression(n_jobs=-1)\n",
    "                                elif model_name == \"RandomForest\":\n",
    "                                    model = RandomForestRegressor(n_estimators=n_estimators, max_depth=max_depth, n_jobs=-1)\n",
    "                                elif model_name == \"XGBoost\":\n",
    "                                    model = XGBRegressor(n_estimators=n_estimators, max_depth=max_depth, learning_rate=learning_rate, n_jobs=-1)\n",
    "\n",
    "                                model.fit(X_train, y_train)\n",
    "\n",
    "                                y_test_pred = model.predict(X_test)\n",
    "\n",
    "                                # Metrics on the test set\n",
    "                                rmse_test = np.sqrt(mean_squared_error(y_test, y_test_pred))\n",
    "                                mae_test = mean_absolute_error(y_test, y_test_pred)\n",
    "\n",
    "                                # Log test metrics\n",
    "                                mlflow.log_metric('RMSE_test', rmse_test)\n",
    "                                mlflow.log_metric('MAE_test', mae_test)\n",
    "\n",
    "                                # Log params\n",
    "                                mlflow.log_param('model', model_name)\n",
    "                                mlflow.log_param('features', feature_name)\n",
    "                                mlflow.log_param('n_estimators', n_estimators)\n",
    "                                mlflow.log_param('max_depth', max_depth)\n",
    "                                mlflow.log_param('learning_rate', learning_rate)\n",
    "                                mlflow.log_param('split_point', split_point)\n",
    "\n",
    "                                # Plots for 1 week and 1 month on the test set\n",
    "                                plt.figure(figsize=(8, 6))\n",
    "                                plt.plot(y_test.index[:24*7], y_test[:24*7], label='Actual')\n",
    "                                plt.plot(y_test.index[:24*7], y_test_pred[:24*7], label='Predicted')\n",
    "                                plt.xlabel('Time')\n",
    "                                plt.ylabel('Energy Consumption')\n",
    "                                plt.title('1 Week - Actual vs Predicted')\n",
    "                                plt.xticks(rotation=25, ha='right')\n",
    "                                plt.legend()\n",
    "                                plt.savefig('1_week_plot.png')\n",
    "                                mlflow.log_artifact('1_week_plot.png')\n",
    "                                plt.close()\n",
    "\n",
    "                                plt.figure(figsize=(8, 6))\n",
    "                                plt.plot(y_test.index[:24*30], y_test[:24*30], label='Actual')\n",
    "                                plt.plot(y_test.index[:24*30], y_test_pred[:24*30], label='Predicted')\n",
    "                                plt.xlabel('Time')\n",
    "                                plt.ylabel('Energy Consumption')\n",
    "                                plt.title('1 Month - Actual vs Predicted')\n",
    "                                plt.xticks(rotation=25, ha='right')\n",
    "                                plt.legend()\n",
    "                                plt.savefig('1_month_plot.png')\n",
    "                                mlflow.log_artifact('1_month_plot.png')\n",
    "                                plt.close()\n",
    "\n",
    "print('Experiment completed. Check MLflow UI for details.')\n",
    "\n",
    "# To start MLflow UI, run this in terminal:\n",
    "# mlflow ui\n"
   ]
  },
  {
   "cell_type": "code",
   "execution_count": 33,
   "metadata": {},
   "outputs": [
    {
     "name": "stdout",
     "output_type": "stream",
     "text": [
      "\n",
      "Starting MLFlow UI...\n"
     ]
    },
    {
     "data": {
      "text/markdown": [
       "[Open MLFlow UI](http://localhost:5000)"
      ],
      "text/plain": [
       "<IPython.core.display.Markdown object>"
      ]
     },
     "metadata": {},
     "output_type": "display_data"
    },
    {
     "name": "stdout",
     "output_type": "stream",
     "text": [
      "MLFlow UI is running at http://localhost:5000. Press Ctrl+C in the terminal to stop it.\n"
     ]
    }
   ],
   "source": [
    "# Start MLFlow UI from the notebook\n",
    "print(\"\\nStarting MLFlow UI...\")\n",
    "process = subprocess.Popen([\"mlflow\", \"ui\", \"--port\", \"5000\"])  # Starts MLFlow UI on port 5000\n",
    "\n",
    "# Wait a moment to ensure the server starts\n",
    "time.sleep(3)\n",
    "\n",
    "# Display a link to the MLFlow UI\n",
    "display.display(display.Markdown(\"[Open MLFlow UI](http://localhost:5000)\"))\n",
    "\n",
    "print(\"MLFlow UI is running at http://localhost:5000. Press Ctrl+C in the terminal to stop it.\")"
   ]
  }
 ],
 "metadata": {
  "kernelspec": {
   "display_name": "dat",
   "language": "python",
   "name": "python3"
  },
  "language_info": {
   "codemirror_mode": {
    "name": "ipython",
    "version": 3
   },
   "file_extension": ".py",
   "mimetype": "text/x-python",
   "name": "python",
   "nbconvert_exporter": "python",
   "pygments_lexer": "ipython3",
   "version": "3.12.8"
  }
 },
 "nbformat": 4,
 "nbformat_minor": 2
}
